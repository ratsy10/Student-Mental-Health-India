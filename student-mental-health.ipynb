{
 "cells": [
  {
   "cell_type": "code",
   "execution_count": 1,
   "id": "f861d2ee",
   "metadata": {
    "execution": {
     "iopub.execute_input": "2024-12-30T02:07:30.762960Z",
     "iopub.status.busy": "2024-12-30T02:07:30.762554Z",
     "iopub.status.idle": "2024-12-30T02:07:32.242425Z",
     "shell.execute_reply": "2024-12-30T02:07:32.240935Z"
    },
    "papermill": {
     "duration": 1.486539,
     "end_time": "2024-12-30T02:07:32.244726",
     "exception": false,
     "start_time": "2024-12-30T02:07:30.758187",
     "status": "completed"
    },
    "tags": []
   },
   "outputs": [
    {
     "name": "stdout",
     "output_type": "stream",
     "text": [
      "1.2.2\n"
     ]
    }
   ],
   "source": [
    "import sklearn\n",
    "print(sklearn.__version__)\n"
   ]
  },
  {
   "cell_type": "code",
   "execution_count": 2,
   "id": "68c9c00e",
   "metadata": {
    "_cell_guid": "b1076dfc-b9ad-4769-8c92-a6c4dae69d19",
    "_uuid": "8f2839f25d086af736a60e9eeb907d3b93b6e0e5",
    "execution": {
     "iopub.execute_input": "2024-12-30T02:07:32.251853Z",
     "iopub.status.busy": "2024-12-30T02:07:32.251356Z",
     "iopub.status.idle": "2024-12-30T02:07:38.297461Z",
     "shell.execute_reply": "2024-12-30T02:07:38.296235Z"
    },
    "papermill": {
     "duration": 6.054466,
     "end_time": "2024-12-30T02:07:38.302245",
     "exception": false,
     "start_time": "2024-12-30T02:07:32.247779",
     "status": "completed"
    },
    "tags": []
   },
   "outputs": [
    {
     "name": "stdout",
     "output_type": "stream",
     "text": [
      "Missing values after preprocessing:\n",
      " id                   0\n",
      "Gender               0\n",
      "Age                  0\n",
      "Academic Pressure    0\n",
      "Work Pressure        0\n",
      "                    ..\n",
      "Degree_ME            0\n",
      "Degree_MHM           0\n",
      "Degree_MSc           0\n",
      "Degree_Others        0\n",
      "Degree_PhD           0\n",
      "Length: 108, dtype: int64\n",
      "Missing values in X_train: 0\n",
      "Missing values in y_train: 0\n",
      "Preprocessed Data Shape: (22320, 107) (5581, 107)\n"
     ]
    }
   ],
   "source": [
    "import pandas as pd\n",
    "from sklearn.preprocessing import LabelEncoder, StandardScaler\n",
    "from sklearn.model_selection import train_test_split\n",
    "from sklearn.ensemble import RandomForestClassifier\n",
    "\n",
    "# Load the dataset\n",
    "file_path = '/kaggle/input/student-depression-dataset/Student Depression Dataset.csv'\n",
    "df = pd.read_csv(file_path)\n",
    "\n",
    "# Fill missing values in 'Financial Stress' with the median\n",
    "df['Financial Stress'].fillna(df['Financial Stress'].median(), inplace=True)\n",
    "\n",
    "# Handle 'Sleep Duration' (map to numerical values)\n",
    "sleep_duration_map = {\n",
    "    'Less than 5 hours': 1,\n",
    "    '5-6 hours': 2,\n",
    "    '7-8 hours': 3,\n",
    "    'More than 8 hours': 4\n",
    "}\n",
    "df['Sleep Duration'] = df['Sleep Duration'].map(sleep_duration_map)\n",
    "\n",
    "# Label encoding for binary categorical variables\n",
    "label_encoder = LabelEncoder()\n",
    "df['Gender'] = label_encoder.fit_transform(df['Gender'])  # Male: 1, Female: 0\n",
    "df['Have you ever had suicidal thoughts ?'] = label_encoder.fit_transform(df['Have you ever had suicidal thoughts ?'])  # Yes: 1, No: 0\n",
    "df['Family History of Mental Illness'] = label_encoder.fit_transform(df['Family History of Mental Illness'])  # Yes: 1, No: 0\n",
    "\n",
    "# One-Hot Encoding for other categorical variables\n",
    "df = pd.get_dummies(df, columns=['City', 'Profession', 'Dietary Habits', 'Degree'], drop_first=True)\n",
    "\n",
    "# Scale numerical features (Age, CGPA, Academic Pressure, Work Pressure, etc.)\n",
    "scaler = StandardScaler()\n",
    "numerical_features = ['Age', 'Academic Pressure', 'Work Pressure', 'CGPA', 'Study Satisfaction', 'Job Satisfaction', \n",
    "                      'Work/Study Hours', 'Financial Stress']\n",
    "df[numerical_features] = scaler.fit_transform(df[numerical_features])\n",
    "\n",
    "# Check for any missing values after preprocessing\n",
    "print(\"Missing values after preprocessing:\\n\", df.isnull().sum())\n",
    "\n",
    "# Fill missing values if any (using median for all columns)\n",
    "df.fillna(df.median(), inplace=True)\n",
    "\n",
    "# Split the data into features (X) and target (y)\n",
    "X = df.drop('Depression', axis=1)  # Features\n",
    "y = df['Depression']  # Target variable\n",
    "\n",
    "# Split data into training and test sets\n",
    "X_train, X_test, y_train, y_test = train_test_split(X, y, test_size=0.2, random_state=42)\n",
    "\n",
    "# Check if there are any missing values in X_train or y_train\n",
    "print(\"Missing values in X_train:\", X_train.isnull().sum().sum())\n",
    "print(\"Missing values in y_train:\", y_train.isnull().sum())\n",
    "\n",
    "# Train the model\n",
    "model = RandomForestClassifier(random_state=42)\n",
    "model.fit(X_train, y_train)\n",
    "\n",
    "# Predict on the test data\n",
    "y_pred = model.predict(X_test)\n",
    "\n",
    "# Display the preprocessed data shape\n",
    "print(\"Preprocessed Data Shape:\", X_train.shape, X_test.shape)\n"
   ]
  },
  {
   "cell_type": "code",
   "execution_count": 3,
   "id": "61610713",
   "metadata": {
    "execution": {
     "iopub.execute_input": "2024-12-30T02:07:38.313940Z",
     "iopub.status.busy": "2024-12-30T02:07:38.313558Z",
     "iopub.status.idle": "2024-12-30T02:07:38.343103Z",
     "shell.execute_reply": "2024-12-30T02:07:38.341839Z"
    },
    "papermill": {
     "duration": 0.03682,
     "end_time": "2024-12-30T02:07:38.345067",
     "exception": false,
     "start_time": "2024-12-30T02:07:38.308247",
     "status": "completed"
    },
    "tags": []
   },
   "outputs": [
    {
     "name": "stdout",
     "output_type": "stream",
     "text": [
      "Accuracy: 83.00%\n",
      "\n",
      "Classification Report:\n",
      "              precision    recall  f1-score   support\n",
      "\n",
      "           0       0.81      0.77      0.79      2343\n",
      "           1       0.84      0.87      0.86      3238\n",
      "\n",
      "    accuracy                           0.83      5581\n",
      "   macro avg       0.83      0.82      0.82      5581\n",
      "weighted avg       0.83      0.83      0.83      5581\n",
      "\n",
      "\n",
      "Confusion Matrix:\n",
      "[[1808  535]\n",
      " [ 414 2824]]\n"
     ]
    }
   ],
   "source": [
    "from sklearn.metrics import accuracy_score, classification_report, confusion_matrix\n",
    "\n",
    "# Accuracy Score\n",
    "accuracy = accuracy_score(y_test, y_pred)\n",
    "print(f\"Accuracy: {accuracy * 100:.2f}%\")\n",
    "\n",
    "# Classification Report (Precision, Recall, F1-score)\n",
    "print(\"\\nClassification Report:\")\n",
    "print(classification_report(y_test, y_pred))\n",
    "\n",
    "# Confusion Matrix\n",
    "print(\"\\nConfusion Matrix:\")\n",
    "print(confusion_matrix(y_test, y_pred))\n"
   ]
  },
  {
   "cell_type": "code",
   "execution_count": 4,
   "id": "f954a3ab",
   "metadata": {
    "execution": {
     "iopub.execute_input": "2024-12-30T02:07:38.352261Z",
     "iopub.status.busy": "2024-12-30T02:07:38.351870Z",
     "iopub.status.idle": "2024-12-30T02:07:38.487680Z",
     "shell.execute_reply": "2024-12-30T02:07:38.486563Z"
    },
    "papermill": {
     "duration": 0.14156,
     "end_time": "2024-12-30T02:07:38.489789",
     "exception": false,
     "start_time": "2024-12-30T02:07:38.348229",
     "status": "completed"
    },
    "tags": []
   },
   "outputs": [
    {
     "data": {
      "text/plain": [
       "['random_forest_model.pkl']"
      ]
     },
     "execution_count": 4,
     "metadata": {},
     "output_type": "execute_result"
    }
   ],
   "source": [
    "import joblib\n",
    "\n",
    "# Save the model\n",
    "joblib.dump(model, 'random_forest_model.pkl')\n"
   ]
  },
  {
   "cell_type": "code",
   "execution_count": 5,
   "id": "6d34a081",
   "metadata": {
    "execution": {
     "iopub.execute_input": "2024-12-30T02:07:38.501116Z",
     "iopub.status.busy": "2024-12-30T02:07:38.500694Z",
     "iopub.status.idle": "2024-12-30T02:07:38.580021Z",
     "shell.execute_reply": "2024-12-30T02:07:38.578685Z"
    },
    "papermill": {
     "duration": 0.087731,
     "end_time": "2024-12-30T02:07:38.582588",
     "exception": false,
     "start_time": "2024-12-30T02:07:38.494857",
     "status": "completed"
    },
    "tags": []
   },
   "outputs": [],
   "source": [
    "path = '/kaggle/input/student-depression-dataset/Student Depression Dataset.csv'\n",
    "df1 = pd.read_csv(path)"
   ]
  },
  {
   "cell_type": "code",
   "execution_count": 6,
   "id": "9e6bc694",
   "metadata": {
    "execution": {
     "iopub.execute_input": "2024-12-30T02:07:38.594889Z",
     "iopub.status.busy": "2024-12-30T02:07:38.594517Z",
     "iopub.status.idle": "2024-12-30T02:07:38.610415Z",
     "shell.execute_reply": "2024-12-30T02:07:38.608932Z"
    },
    "papermill": {
     "duration": 0.025,
     "end_time": "2024-12-30T02:07:38.613175",
     "exception": false,
     "start_time": "2024-12-30T02:07:38.588175",
     "status": "completed"
    },
    "tags": []
   },
   "outputs": [
    {
     "name": "stdout",
     "output_type": "stream",
     "text": [
      "['Visakhapatnam' 'Bangalore' 'Srinagar' 'Varanasi' 'Jaipur' 'Pune' 'Thane'\n",
      " 'Chennai' 'Nagpur' 'Nashik' 'Vadodara' 'Kalyan' 'Rajkot' 'Ahmedabad'\n",
      " 'Kolkata' 'Mumbai' 'Lucknow' 'Indore' 'Surat' 'Ludhiana' 'Bhopal'\n",
      " 'Meerut' 'Agra' 'Ghaziabad' 'Hyderabad' 'Vasai-Virar' 'Kanpur' 'Patna'\n",
      " 'Faridabad' 'Delhi' 'Saanvi' 'M.Tech' 'Bhavna' 'Less Delhi' 'City' '3.0'\n",
      " 'Less than 5 Kalyan' 'Mira' 'Harsha' 'Vaanya' 'Gaurav' 'Harsh' 'Reyansh'\n",
      " 'Kibara' 'Rashi' 'ME' 'M.Com' 'Nalyan' 'Mihir' 'Nalini' 'Nandini'\n",
      " 'Khaziabad']\n",
      "['Student' 'Civil Engineer' 'Architect' 'UX/UI Designer'\n",
      " 'Digital Marketer' 'Content Writer' 'Educational Consultant' 'Teacher'\n",
      " 'Manager' 'Chef' 'Doctor' 'Lawyer' 'Entrepreneur' 'Pharmacist']\n",
      "['Healthy' 'Moderate' 'Unhealthy' 'Others']\n",
      "['B.Pharm' 'BSc' 'BA' 'BCA' 'M.Tech' 'PhD' 'Class 12' 'B.Ed' 'LLB' 'BE'\n",
      " 'M.Ed' 'MSc' 'BHM' 'M.Pharm' 'MCA' 'MA' 'B.Com' 'MD' 'MBA' 'MBBS' 'M.Com'\n",
      " 'B.Arch' 'LLM' 'B.Tech' 'BBA' 'ME' 'MHM' 'Others']\n"
     ]
    }
   ],
   "source": [
    "print(df1['City'].unique())\n",
    "print(df1['Profession'].unique())\n",
    "print(df1['Dietary Habits'].unique())\n",
    "print(df1['Degree'].unique())\n"
   ]
  },
  {
   "cell_type": "code",
   "execution_count": 7,
   "id": "9f7b9d97",
   "metadata": {
    "execution": {
     "iopub.execute_input": "2024-12-30T02:07:38.625834Z",
     "iopub.status.busy": "2024-12-30T02:07:38.625434Z",
     "iopub.status.idle": "2024-12-30T02:07:38.630844Z",
     "shell.execute_reply": "2024-12-30T02:07:38.629725Z"
    },
    "papermill": {
     "duration": 0.013895,
     "end_time": "2024-12-30T02:07:38.632730",
     "exception": false,
     "start_time": "2024-12-30T02:07:38.618835",
     "status": "completed"
    },
    "tags": []
   },
   "outputs": [
    {
     "name": "stdout",
     "output_type": "stream",
     "text": [
      "['id', 'Gender', 'Age', 'Academic Pressure', 'Work Pressure', 'CGPA', 'Study Satisfaction', 'Job Satisfaction', 'Sleep Duration', 'Have you ever had suicidal thoughts ?', 'Work/Study Hours', 'Financial Stress', 'Family History of Mental Illness', 'City_Agra', 'City_Ahmedabad', 'City_Bangalore', 'City_Bhavna', 'City_Bhopal', 'City_Chennai', 'City_City', 'City_Delhi', 'City_Faridabad', 'City_Gaurav', 'City_Ghaziabad', 'City_Harsh', 'City_Harsha', 'City_Hyderabad', 'City_Indore', 'City_Jaipur', 'City_Kalyan', 'City_Kanpur', 'City_Khaziabad', 'City_Kibara', 'City_Kolkata', 'City_Less Delhi', 'City_Less than 5 Kalyan', 'City_Lucknow', 'City_Ludhiana', 'City_M.Com', 'City_M.Tech', 'City_ME', 'City_Meerut', 'City_Mihir', 'City_Mira', 'City_Mumbai', 'City_Nagpur', 'City_Nalini', 'City_Nalyan', 'City_Nandini', 'City_Nashik', 'City_Patna', 'City_Pune', 'City_Rajkot', 'City_Rashi', 'City_Reyansh', 'City_Saanvi', 'City_Srinagar', 'City_Surat', 'City_Thane', 'City_Vaanya', 'City_Vadodara', 'City_Varanasi', 'City_Vasai-Virar', 'City_Visakhapatnam', 'Profession_Chef', 'Profession_Civil Engineer', 'Profession_Content Writer', 'Profession_Digital Marketer', 'Profession_Doctor', 'Profession_Educational Consultant', 'Profession_Entrepreneur', 'Profession_Lawyer', 'Profession_Manager', 'Profession_Pharmacist', 'Profession_Student', 'Profession_Teacher', 'Profession_UX/UI Designer', 'Dietary Habits_Moderate', 'Dietary Habits_Others', 'Dietary Habits_Unhealthy', 'Degree_B.Com', 'Degree_B.Ed', 'Degree_B.Pharm', 'Degree_B.Tech', 'Degree_BA', 'Degree_BBA', 'Degree_BCA', 'Degree_BE', 'Degree_BHM', 'Degree_BSc', 'Degree_Class 12', 'Degree_LLB', 'Degree_LLM', 'Degree_M.Com', 'Degree_M.Ed', 'Degree_M.Pharm', 'Degree_M.Tech', 'Degree_MA', 'Degree_MBA', 'Degree_MBBS', 'Degree_MCA', 'Degree_MD', 'Degree_ME', 'Degree_MHM', 'Degree_MSc', 'Degree_Others', 'Degree_PhD']\n"
     ]
    }
   ],
   "source": [
    "column_names = X.columns.tolist()\n",
    "\n",
    "# Print the column names\n",
    "print(column_names)"
   ]
  }
 ],
 "metadata": {
  "kaggle": {
   "accelerator": "none",
   "dataSources": [
    {
     "datasetId": 6144877,
     "sourceId": 9985284,
     "sourceType": "datasetVersion"
    }
   ],
   "dockerImageVersionId": 30822,
   "isGpuEnabled": false,
   "isInternetEnabled": true,
   "language": "python",
   "sourceType": "notebook"
  },
  "kernelspec": {
   "display_name": "Python 3",
   "language": "python",
   "name": "python3"
  },
  "language_info": {
   "codemirror_mode": {
    "name": "ipython",
    "version": 3
   },
   "file_extension": ".py",
   "mimetype": "text/x-python",
   "name": "python",
   "nbconvert_exporter": "python",
   "pygments_lexer": "ipython3",
   "version": "3.10.12"
  },
  "papermill": {
   "default_parameters": {},
   "duration": 11.717048,
   "end_time": "2024-12-30T02:07:39.458312",
   "environment_variables": {},
   "exception": null,
   "input_path": "__notebook__.ipynb",
   "output_path": "__notebook__.ipynb",
   "parameters": {},
   "start_time": "2024-12-30T02:07:27.741264",
   "version": "2.6.0"
  }
 },
 "nbformat": 4,
 "nbformat_minor": 5
}
